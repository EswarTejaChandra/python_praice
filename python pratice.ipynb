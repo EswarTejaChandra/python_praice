{
 "cells": [
  {
   "cell_type": "markdown",
   "id": "8ba30d74",
   "metadata": {},
   "source": [
    "python was intrduced by \n",
    "\n",
    "* Guido van Rossum he is in dutch person \n",
    "*\n",
    "uses\n",
    "1)1989 start python ..\n",
    "2)1991 start java..\n",
    "*using in ml,ds,web development,software testing,game development,ai,hacking\n",
    "* esay to use\n",
    "* few lines of code\n",
    "* open source\n",
    "* huge lib\n",
    "* wide variety of frameworks\n",
    "* easy to learn\n",
    "* not as fast as c++\n",
    "* easy to debug\n",
    "* easy to scale\n",
    "* easy to maintain\n",
    "* easy to deploy\n",
    "i am using py 3.12.0 version\n"
   ]
  },
  {
   "cell_type": "code",
   "execution_count": 9,
   "id": "151bd5a6",
   "metadata": {},
   "outputs": [
    {
     "name": "stdout",
     "output_type": "stream",
     "text": [
      "hello world\n",
      "my name is EswarTeja chandra \n"
     ]
    }
   ],
   "source": [
    "print(\"hello world\")\n",
    "print(\"my name is EswarTeja chandra \")"
   ]
  },
  {
   "cell_type": "code",
   "execution_count": 10,
   "id": "64dc6aee",
   "metadata": {},
   "outputs": [
    {
     "data": {
      "text/plain": [
       "5"
      ]
     },
     "execution_count": 10,
     "metadata": {},
     "output_type": "execute_result"
    }
   ],
   "source": [
    "2+3"
   ]
  },
  {
   "cell_type": "code",
   "execution_count": 11,
   "id": "00094eea",
   "metadata": {},
   "outputs": [
    {
     "name": "stdout",
     "output_type": "stream",
     "text": [
      "5\n"
     ]
    }
   ],
   "source": [
    "print(2+3)"
   ]
  },
  {
   "cell_type": "code",
   "execution_count": 12,
   "id": "8367e5e1",
   "metadata": {},
   "outputs": [
    {
     "name": "stdout",
     "output_type": "stream",
     "text": [
      "hellohi\n",
      "hello \n",
      " world\n",
      "hello \t world\n",
      "hi  erri hukaa\n"
     ]
    }
   ],
   "source": [
    "# string\n",
    "print(\"hello\"+\"hi\")\n",
    "print(\"hello \\n world\")\n",
    "print(\"hello \\t world\")\n",
    "print(\"hi\"+\"  \"+\"erri hukaa\")\n",
    "\n"
   ]
  },
  {
   "cell_type": "code",
   "execution_count": 13,
   "id": "033bd7cc",
   "metadata": {},
   "outputs": [],
   "source": [
    "#input\n",
    "name=input(\"enter a name\")\n",
    "print(\"hello\",name)"
   ]
  },
  {
   "cell_type": "code",
   "execution_count": 55,
   "id": "51f3a2a1",
   "metadata": {},
   "outputs": [
    {
     "data": {
      "text/plain": [
       "9"
      ]
     },
     "execution_count": 55,
     "metadata": {},
     "output_type": "execute_result"
    }
   ],
   "source": [
    "i=\"eswarteja\"\n",
    "len(i)"
   ]
  },
  {
   "cell_type": "code",
   "execution_count": 56,
   "id": "ef84481b",
   "metadata": {},
   "outputs": [
    {
     "name": "stdout",
     "output_type": "stream",
     "text": [
      "2\n",
      "5\n",
      "5\n",
      "2\n"
     ]
    }
   ],
   "source": [
    "#E1\n",
    "a=2\n",
    "b=5\n",
    "print(a)\n",
    "print(b)\n",
    "i=a\n",
    "a=b\n",
    "b=i\n",
    "print(a)\n",
    "print(b)"
   ]
  },
  {
   "cell_type": "code",
   "execution_count": 57,
   "id": "00d3013a",
   "metadata": {},
   "outputs": [
    {
     "name": "stdout",
     "output_type": "stream",
     "text": [
      "<class 'int'>\n",
      "<class 'str'>\n",
      "<class 'float'>\n",
      "<class 'list'>\n",
      "<class 'tuple'>\n",
      "<class 'set'>\n",
      "<class 'bool'>\n",
      "<class 'NoneType'>\n"
     ]
    }
   ],
   "source": [
    "#data types\n",
    "i=10\n",
    "print(type(i))\n",
    "j=\"tre\"\n",
    "print(type(j))\n",
    "k=23.4\n",
    "print(type(k))\n",
    "l=[1,2,3]\n",
    "print(type(l))\n",
    "m=(1,2,3)\n",
    "print(type(m))\n",
    "n={1,2,3}\n",
    "print(type(n))\n",
    "o=True\n",
    "print(type(o))\n",
    "p=None\n",
    "print(type(p))\n",
    "\n"
   ]
  },
  {
   "cell_type": "code",
   "execution_count": 58,
   "id": "5f2c2a8c",
   "metadata": {},
   "outputs": [
    {
     "name": "stdout",
     "output_type": "stream",
     "text": [
      "<class 'str'>\n",
      "<class 'int'>\n"
     ]
    }
   ],
   "source": [
    "#conversion\n",
    "j=\"23\"\n",
    "print(type(j))\n",
    "j=int(j)\n",
    "print(type(j))\n"
   ]
  },
  {
   "cell_type": "code",
   "execution_count": 59,
   "id": "21670426",
   "metadata": {},
   "outputs": [
    {
     "name": "stdout",
     "output_type": "stream",
     "text": [
      "5\n",
      "-1\n",
      "6\n",
      "0.6666666666666666\n",
      "0\n",
      "2\n",
      "8\n"
     ]
    }
   ],
   "source": [
    "\n",
    "#operators\n",
    "a=2\n",
    "b=3\n",
    "print(a+b)\n",
    "print(a-b)\n",
    "print(a*b)\n",
    "print(a/b)#div\n",
    "print(a//b)#floor value exact int val\n",
    "print(a%b)#mod(reminder)\n",
    "print(a**b)#power"
   ]
  },
  {
   "cell_type": "code",
   "execution_count": 60,
   "id": "bee41aaf",
   "metadata": {},
   "outputs": [
    {
     "name": "stdout",
     "output_type": "stream",
     "text": [
      "False\n",
      "True\n",
      "False\n"
     ]
    }
   ],
   "source": [
    "#logical operators\n",
    "a=True\n",
    "b=False\n",
    "print(a and b)\n",
    "print(a or b)\n",
    "print(not a)"
   ]
  },
  {
   "cell_type": "code",
   "execution_count": 61,
   "id": "340e2db9",
   "metadata": {},
   "outputs": [
    {
     "name": "stdout",
     "output_type": "stream",
     "text": [
      "True\n",
      "False\n"
     ]
    }
   ],
   "source": [
    "#membership operators\n",
    "s=\"hello\"\n",
    "print(\"h\" in s)\n",
    "print(\"x\" in s)"
   ]
  },
  {
   "cell_type": "code",
   "execution_count": 62,
   "id": "a1e9863a",
   "metadata": {},
   "outputs": [
    {
     "name": "stdout",
     "output_type": "stream",
     "text": [
      "2624802037392\n"
     ]
    }
   ],
   "source": [
    "#object id or memory allocation\n",
    "print(id(s))"
   ]
  },
  {
   "cell_type": "code",
   "execution_count": 63,
   "id": "3ec46bea",
   "metadata": {},
   "outputs": [
    {
     "name": "stdout",
     "output_type": "stream",
     "text": [
      "True\n",
      "False\n"
     ]
    }
   ],
   "source": [
    "\n",
    "#identity operators\n",
    "a=10\n",
    "b=10\n",
    "print(a is b)\n",
    "print(a is not b)"
   ]
  },
  {
   "cell_type": "code",
   "execution_count": 64,
   "id": "64727c51",
   "metadata": {},
   "outputs": [
    {
     "name": "stdout",
     "output_type": "stream",
     "text": [
      "5\n"
     ]
    }
   ],
   "source": [
    "print(0b101)#binary"
   ]
  },
  {
   "cell_type": "code",
   "execution_count": 65,
   "id": "87e8a0c7",
   "metadata": {},
   "outputs": [
    {
     "name": "stdout",
     "output_type": "stream",
     "text": [
      "8\n",
      "16\n",
      "40\n",
      "2\n"
     ]
    }
   ],
   "source": [
    "print(0o10)#oct\n",
    "print(0x10)#hex\n",
    "\n",
    "#bitwise shift operators\n",
    "a=10\n",
    "b=2\n",
    "print(a<<2)\n",
    "print(a>>2)"
   ]
  },
  {
   "cell_type": "code",
   "execution_count": null,
   "id": "65f3d4f8",
   "metadata": {},
   "outputs": [],
   "source": []
  },
  {
   "cell_type": "code",
   "execution_count": 66,
   "id": "02b312cb",
   "metadata": {},
   "outputs": [
    {
     "name": "stdout",
     "output_type": "stream",
     "text": [
      "2\n",
      "10\n",
      "8\n",
      "-11\n",
      "40\n",
      "2\n"
     ]
    }
   ],
   "source": [
    "#bitwise operators\n",
    "a=10\n",
    "b=2\n",
    "print(a&b)\n",
    "print(a|b)\n",
    "print(a^b)\n",
    "print(~a)\n",
    "print(a<<2)\n",
    "print(a>>2)"
   ]
  },
  {
   "cell_type": "code",
   "execution_count": 67,
   "id": "4207bee1",
   "metadata": {},
   "outputs": [
    {
     "name": "stdout",
     "output_type": "stream",
     "text": [
      "12\n",
      "10\n",
      "20\n",
      "10.0\n"
     ]
    }
   ],
   "source": [
    "#assignment operators\n",
    "a=10\n",
    "b=2\n",
    "a+=b\n",
    "print(a)\n",
    "a-=b\n",
    "print(a)\n",
    "a*=b\n",
    "print(a)\n",
    "a/=b\n",
    "print(a)\n",
    "a%=b"
   ]
  },
  {
   "cell_type": "code",
   "execution_count": 68,
   "id": "f891c630",
   "metadata": {},
   "outputs": [
    {
     "name": "stdout",
     "output_type": "stream",
     "text": [
      "20\n",
      "10\n"
     ]
    }
   ],
   "source": [
    "\n",
    "#ternary operator\n",
    "a=10\n",
    "b=20\n",
    "print(a if a>b else b)\n",
    "print(a if a<b else b)\n"
   ]
  },
  {
   "cell_type": "code",
   "execution_count": 69,
   "id": "54cb439a",
   "metadata": {},
   "outputs": [
    {
     "name": "stdout",
     "output_type": "stream",
     "text": [
      "b is greater\n"
     ]
    }
   ],
   "source": [
    "#conitional op e5\n",
    "a=10\n",
    "b=20\n",
    "if a>b:\n",
    "    print(\"a is greater\")\n",
    "elif a<b:\n",
    "    print(\"b is greater\")\n",
    "    \n",
    "\n"
   ]
  },
  {
   "cell_type": "markdown",
   "id": "94e382dd",
   "metadata": {},
   "source": [
    "\n",
    "**Type checking** is done to ensure that a variable is of the correct type before using it in a particular operation. If the type doesn't match, an error may occur.\n",
    "\n",
    "**type casting** involves converting a value from one type to another. If the value cannot be converted, a ValueError or TypeError may be raised."
   ]
  },
  {
   "cell_type": "code",
   "execution_count": 70,
   "id": "bdd145f9",
   "metadata": {},
   "outputs": [
    {
     "name": "stdout",
     "output_type": "stream",
     "text": [
      "5\n"
     ]
    }
   ],
   "source": [
    "#E2\n",
    "i=input(\"enter a value\")#12\n",
    "fd=i[0]\n",
    "sd=i[1]\n",
    "a=int(fd)\n",
    "b=int(sd)\n",
    "print(a+b)\n"
   ]
  },
  {
   "cell_type": "code",
   "execution_count": 71,
   "id": "0d6388d7",
   "metadata": {},
   "outputs": [
    {
     "name": "stdout",
     "output_type": "stream",
     "text": [
      "bmi is 0\n"
     ]
    }
   ],
   "source": [
    "#E3\n",
    "weight =int(input(\"enter a val\"))\n",
    "height=float(input(\"enter a value\"))\n",
    "bmi=weight/(height**2)\n",
    "print(\"bmi is\",int(bmi))"
   ]
  },
  {
   "cell_type": "code",
   "execution_count": 72,
   "id": "4a02807c",
   "metadata": {},
   "outputs": [
    {
     "name": "stdout",
     "output_type": "stream",
     "text": [
      "22\n",
      "234.52\n",
      "7\n",
      "2.0\n",
      "8\n",
      "8\n",
      "6\n",
      "0\n"
     ]
    }
   ],
   "source": [
    "#round\n",
    "i=21.5\n",
    "print(round(i))\n",
    "j=234.5234567\n",
    "print(round(j,2))#point after val\n",
    "print(round(7,2))\n",
    "print(round(2.4554,0))\n",
    "print(round(7.68))\n",
    "print(round(7.5))#8 nearest even integer\n",
    "print(round(6.5,))#6 nearest even integer\n",
    "\n",
    "print(round(6,-2))#-2 is b/w val of the 11 to 20"
   ]
  },
  {
   "cell_type": "code",
   "execution_count": 73,
   "id": "57cc25b8",
   "metadata": {},
   "outputs": [
    {
     "name": "stdout",
     "output_type": "stream",
     "text": [
      "my name is eswar teja and age is 21\n",
      "my name is eswar teja and age is 21\n"
     ]
    }
   ],
   "source": [
    "#f string\n",
    "name=\"eswar teja\"\n",
    "age=21\n",
    "print(f\"my name is {name} and age is {age}\")\n",
    "\n",
    "#format\n",
    "name=\"eswar teja\"\n",
    "age=21\n",
    "print(\"my name is {} and age is {}\".format(name,age))\n",
    "\n",
    "\n"
   ]
  },
  {
   "cell_type": "code",
   "execution_count": 74,
   "id": "fb085ec8",
   "metadata": {},
   "outputs": [
    {
     "name": "stdout",
     "output_type": "stream",
     "text": [
      "u have days28470,weeks341640,months17765280\n"
     ]
    }
   ],
   "source": [
    "#e4\n",
    "age=int(input(\"enter a age\"))\n",
    "i=90-age\n",
    "j=i*365\n",
    "k=j*12\n",
    "l=k*52\n",
    "print(f\"u have days{j},weeks{k},months{l}\")\n"
   ]
  },
  {
   "cell_type": "code",
   "execution_count": 75,
   "id": "efa40641",
   "metadata": {},
   "outputs": [],
   "source": [
    "#nested if\n",
    "a=12\n",
    "b=54\n",
    "if a>b:\n",
    "  print(\"a is greater\")\n",
    "  if a==20:\n",
    "      print(\"a is equal to b\")\n",
    "  else:\n",
    "     print(\"b is greater\")\n",
    "\n",
    "  "
   ]
  },
  {
   "cell_type": "code",
   "execution_count": 76,
   "id": "9ce6ab54",
   "metadata": {},
   "outputs": [
    {
     "name": "stdout",
     "output_type": "stream",
     "text": [
      "b is greater\n"
     ]
    }
   ],
   "source": [
    "#elif\n",
    "a=12\n",
    "b=54\n",
    "if a>b:\n",
    "  print(\"a is greater\")\n",
    "elif a<b:\n",
    "  print(\"b is greater\")"
   ]
  },
  {
   "cell_type": "code",
   "execution_count": 77,
   "id": "484b6446",
   "metadata": {},
   "outputs": [
    {
     "name": "stdout",
     "output_type": "stream",
     "text": [
      "1\n",
      "5\n",
      "[2, 3]\n",
      "[1, 3, 5]\n",
      "[5, 4, 3, 2, 1]\n",
      "[2, 4]\n"
     ]
    }
   ],
   "source": [
    "#lists\n",
    "l=[1,2,3,4,5]\n",
    "print(l[0])\n",
    "print(l[-1])\n",
    "print(l[1:3])\n",
    "print(l[::2])\n",
    "print(l[::-1])\n",
    "print(l[1:5:2])\n",
    "\n",
    "\n",
    "\n"
   ]
  },
  {
   "cell_type": "code",
   "execution_count": 78,
   "id": "82603622",
   "metadata": {},
   "outputs": [
    {
     "name": "stdout",
     "output_type": "stream",
     "text": [
      "h\n",
      "d\n",
      "el\n",
      "hlowrd\n",
      "dlrow olleh\n",
      "el\n"
     ]
    },
    {
     "data": {
      "text/plain": [
       "3"
      ]
     },
     "execution_count": 78,
     "metadata": {},
     "output_type": "execute_result"
    }
   ],
   "source": [
    "\n",
    "#string list\n",
    "s=\"hello world\"\n",
    "print(s[0])\n",
    "print(s[-1])\n",
    "print(s[1:3])\n",
    "print(s[::2])\n",
    "print(s[::-1])\n",
    "print(s[1:5:2])\n",
    "\n",
    "3"
   ]
  },
  {
   "cell_type": "code",
   "execution_count": 79,
   "id": "fbaf900f",
   "metadata": {},
   "outputs": [
    {
     "name": "stdout",
     "output_type": "stream",
     "text": [
      "[1, 2, 3, 4, 5, 6]\n",
      "[1, 2, 7, 3, 4, 5, 6]\n",
      "[1, 2, 3, 4, 5, 6]\n",
      "[1, 2, 3, 4, 5]\n",
      "[1, 2, 3, 4, 5, 8, 9, 10]\n",
      "[1, 2, 3, 4, 5, 8, 9, 10]\n",
      "[10, 9, 8, 5, 4, 3, 2, 1]\n",
      "8\n",
      "10\n",
      "1\n"
     ]
    },
    {
     "ename": "TypeError",
     "evalue": "'int' object is not callable",
     "output_type": "error",
     "traceback": [
      "\u001b[1;31m---------------------------------------------------------------------------\u001b[0m",
      "\u001b[1;31mTypeError\u001b[0m                                 Traceback (most recent call last)",
      "Cell \u001b[1;32mIn[79], line 20\u001b[0m\n\u001b[0;32m     18\u001b[0m \u001b[38;5;28mprint\u001b[39m(\u001b[38;5;28mmax\u001b[39m(l))\n\u001b[0;32m     19\u001b[0m \u001b[38;5;28mprint\u001b[39m(\u001b[38;5;28mmin\u001b[39m(l))\n\u001b[1;32m---> 20\u001b[0m \u001b[38;5;28mprint\u001b[39m(\u001b[38;5;28;43msum\u001b[39;49m\u001b[43m(\u001b[49m\u001b[43ml\u001b[49m\u001b[43m)\u001b[49m)\n\u001b[0;32m     21\u001b[0m \u001b[38;5;28mprint\u001b[39m(l\u001b[38;5;241m.\u001b[39mindex(\u001b[38;5;241m5\u001b[39m))\n\u001b[0;32m     22\u001b[0m \u001b[38;5;28mprint\u001b[39m(l\u001b[38;5;241m.\u001b[39mcount(\u001b[38;5;241m5\u001b[39m))\n",
      "\u001b[1;31mTypeError\u001b[0m: 'int' object is not callable"
     ]
    }
   ],
   "source": [
    "#list methods\n",
    "l=[1,2,3,4,5]\n",
    "l.append(6)\n",
    "print(l)\n",
    "l.insert(2,7)\n",
    "print(l)\n",
    "l.remove(7)\n",
    "print(l)\n",
    "l.pop()\n",
    "print(l)\n",
    "l.extend([8,9,10])\n",
    "print(l)\n",
    "l.sort()\n",
    "print(l)\n",
    "l.reverse()\n",
    "print(l)\n",
    "print(len(l))\n",
    "print(max(l))\n",
    "print(min(l))\n",
    "print(sum(l))\n",
    "print(l.index(5))\n",
    "print(l.count(5))\n",
    "l.clear()\n",
    "print(l)\n"
   ]
  },
  {
   "cell_type": "code",
   "execution_count": null,
   "id": "50278d52",
   "metadata": {},
   "outputs": [
    {
     "name": "stdout",
     "output_type": "stream",
     "text": [
      "[1, 2, 3, 4, 5, 6, 7, 8, 9, 10]\n",
      "[2, 4, 6, 8, 10]\n",
      "[1, 3, 5, 7, 9]\n",
      "[1, 4, 9, 16, 25, 36, 49, 64, 81, 100]\n",
      "[4, 16, 36, 64, 100]\n",
      "[1, 9, 25, 49, 81]\n"
     ]
    }
   ],
   "source": [
    "#list comprehension\n",
    "l=[i for i in range(1,11)]\n",
    "print(l)\n",
    "l=[i for i in range(1,11) if i%2==0]\n",
    "print(l)\n",
    "l=[i for i in range(1,11) if i%2!=0]\n",
    "print(l)\n",
    "l=[i**2 for i in range(1,11)]\n",
    "print(l)\n",
    "l=[i**2 for i in range(1,11) if i%2==0]\n",
    "print(l)\n",
    "l=[i**2 for i in range(1,11) if i%2!=0]\n",
    "print(l)"
   ]
  },
  {
   "cell_type": "code",
   "execution_count": null,
   "id": "3610324f",
   "metadata": {},
   "outputs": [
    {
     "name": "stdout",
     "output_type": "stream",
     "text": [
      "apple\n",
      "cherry\n",
      "['banana', 'cherry']\n",
      "['apple', 'cherry']\n",
      "['cherry', 'banana', 'apple']\n",
      "['banana']\n",
      "3\n",
      "True\n",
      "True\n",
      "True\n"
     ]
    }
   ],
   "source": [
    "#list uses\n",
    "fruits=[\"apple\",\"banana\",\"cherry\"]\n",
    "print(fruits[0])\n",
    "print(fruits[-1])\n",
    "print(fruits[1:3])\n",
    "print(fruits[::2])\n",
    "print(fruits[::-1])\n",
    "print(fruits[1:5:2])\n",
    "\n",
    "#list conditions\n",
    "print(len(fruits))\n",
    "print(fruits[0] in fruits)\n",
    "print(\"apple\" in fruits)\n",
    "print(\"orange\" not in fruits)"
   ]
  },
  {
   "cell_type": "code",
   "execution_count": null,
   "id": "36eec760",
   "metadata": {},
   "outputs": [
    {
     "name": "stdout",
     "output_type": "stream",
     "text": [
      "3\n",
      "apple\n",
      "['apple', 'banana', 'cherry']\n",
      "['apple', 'banana', 'cherry']\n",
      "0.8720076486838272\n",
      "5.826773044597803\n",
      "9\n",
      "9\n"
     ]
    }
   ],
   "source": [
    "#random module functions\n",
    "\n",
    "import random\n",
    "print(random.randint(1,10))\n",
    "print(random.choice(fruits))\n",
    "fruits.sort()\n",
    "print(fruits)\n",
    "random.shuffle(fruits)\n",
    "print(fruits)\n",
    "print(random.random())\n",
    "\n",
    "\n",
    "#uniform\n",
    "\n",
    "print(random.uniform(1,10))\n",
    "\n",
    "#randrange\n",
    "\n",
    "print(random.randrange(1,10))\n",
    "print(random.randrange(1,10,2))\n"
   ]
  },
  {
   "cell_type": "code",
   "execution_count": null,
   "id": "4c344126",
   "metadata": {},
   "outputs": [
    {
     "name": "stdout",
     "output_type": "stream",
     "text": [
      "0\n",
      "tails\n"
     ]
    }
   ],
   "source": [
    "import random \n",
    "i=random.randint(0,1)\n",
    "print(i)\n",
    "if i==1:\n",
    "    print(\"heads\")\n",
    "else:\n",
    "    print(\"tails\")\n",
    "\n"
   ]
  },
  {
   "cell_type": "code",
   "execution_count": null,
   "id": "12355f5c",
   "metadata": {},
   "outputs": [
    {
     "name": "stdout",
     "output_type": "stream",
     "text": [
      "['teja', 'pk', 'aj', 'vikram']\n",
      "4\n",
      "vikram will pay bill\n"
     ]
    }
   ],
   "source": [
    "#split and EX6\n",
    "import random \n",
    "text=\"teja pk aj vikram\"\n",
    "i=text.split(\" \")\n",
    "print(i)\n",
    "j=len(i)\n",
    "print(j)\n",
    "r=random.randint(0,j-1)#      ' length-1=index\" u may occur indexing error'\n",
    "print(i[r],\"will pay bill\")\n"
   ]
  },
  {
   "cell_type": "code",
   "execution_count": null,
   "id": "374a9cfe",
   "metadata": {},
   "outputs": [
    {
     "name": "stdout",
     "output_type": "stream",
     "text": [
      "[1, 2, 3]\n",
      "[4, 5, 6]\n",
      "[7, 8, 9]\n",
      "2\n",
      "6\n"
     ]
    }
   ],
   "source": [
    "#nested list\n",
    "nested=[[1,2,3],[4,5,6],[7,8,9]]\n",
    "print(nested[0])\n",
    "print(nested[1])\n",
    "print(nested[2])\n",
    "print(nested[0][1])\n",
    "print(nested[1][2])\n",
    "\n"
   ]
  },
  {
   "cell_type": "code",
   "execution_count": 82,
   "id": "6a389a9e",
   "metadata": {},
   "outputs": [
    {
     "name": "stdout",
     "output_type": "stream",
     "text": [
      "[[1, 2, 3], [4, 5, 6], [7, 8, 9], [10, 11, 12]]\n",
      "[[1, 2, 3], [4, 15, 5, 6], [7, 8, 9], [10, 11, 12]]\n",
      "[[1, 2, 3], [4, 15, 5, 6], [7, 8], [10, 11, 12]]\n",
      "[[1, 2], [4, 15, 5, 6], [7, 8], [10, 11, 12]]\n",
      "[[1, 2], [4, 15, 5, 6, 13, 14], [7, 8], [10, 11, 12]]\n",
      "[[1, 2], [4, 15, 5, 6, 13, 14], [7, 8], [10, 11, 12]]\n",
      "[[10, 11, 12], [7, 8], [4, 15, 5, 6, 13, 14], [1, 2]]\n"
     ]
    }
   ],
   "source": [
    "#2d list methods\n",
    "nested=[[1,2,3],[4,5,6],[7,8,9]]\n",
    "nested.append([10,11,12])\n",
    "print(nested)\n",
    "\n",
    "nested[1].insert(1,15)\n",
    "print(nested)\n",
    "nested[2].remove(9)\n",
    "print(nested)\n",
    "nested[0].pop()\n",
    "print(nested)\n",
    "nested[1].extend([13,14])\n",
    "print(nested)\n",
    "nested.sort()\n",
    "print(nested)\n",
    "nested.reverse()\n",
    "print(nested)\n"
   ]
  },
  {
   "cell_type": "code",
   "execution_count": null,
   "id": "969ef740",
   "metadata": {},
   "outputs": [
    {
     "name": "stdout",
     "output_type": "stream",
     "text": [
      "[[1, 2, 3], [1, 2, 3], [1, 2, 3]]\n",
      "[[1, 2, 3], [1, 2, 3]]\n",
      "[[1, 2, 3]]\n",
      "1\n"
     ]
    }
   ],
   "source": [
    "#nested list comprehension\n",
    "nested=[[i for i in range(1,4)] for j in range(1,4)]\n",
    "print(nested)\n",
    "nested=[[i for i in range(1,4)] for j in range(1,4) if j%2!=0]\n",
    "print(nested)\n",
    "nested=[[i for i in range(1,4)] for j in range(1,4) if j%2==0]\n",
    "print(nested)\n",
    "\n",
    "print(len(nested))"
   ]
  },
  {
   "cell_type": "code",
   "execution_count": null,
   "id": "4004b32b",
   "metadata": {},
   "outputs": [
    {
     "name": "stdout",
     "output_type": "stream",
     "text": [
      "3\n",
      "3\n",
      "True\n",
      "False\n",
      "False\n"
     ]
    }
   ],
   "source": [
    "#2d list conditions\n",
    "nested=[[1,2,3],[4,5,6],[7,8,9]]\n",
    "print(len(nested))\n",
    "print(len(nested[0]))\n",
    "print(nested[0][0] in nested[0])\n",
    "print(\"1\" in nested[0])\n",
    "print(\"1\" in nested[1])"
   ]
  },
  {
   "cell_type": "code",
   "execution_count": null,
   "id": "7a5c48c0",
   "metadata": {},
   "outputs": [
    {
     "name": "stdout",
     "output_type": "stream",
     "text": [
      "1\n",
      "5\n",
      "9\n",
      "1 5 9\n",
      "[[4, 5, 6]]\n"
     ]
    }
   ],
   "source": [
    "\n",
    "#2d list uses\n",
    "nested=[[1,2,3],[4,5,6],[7,8,9]]\n",
    "print(nested[0][0])\n",
    "print(nested[1][1])\n",
    "print(nested[2][2])\n",
    "print(nested[0][0],nested[1][1],nested[2][2])\n",
    "print(nested[1:2])"
   ]
  },
  {
   "cell_type": "code",
   "execution_count": null,
   "id": "e7109386",
   "metadata": {},
   "outputs": [
    {
     "name": "stdout",
     "output_type": "stream",
     "text": [
      "[1, 2, 3]\n",
      "[4, 5, 6]\n",
      "[7, 8, 9]\n",
      "2\n",
      "6\n"
     ]
    }
   ],
   "source": [
    "#matrix using \n",
    "matrix=[[1,2,3],[4,5,6],[7,8,9]]\n",
    "print(matrix[0])\n",
    "print(matrix[1])\n",
    "print(matrix[2])\n",
    "print(matrix[0][1])\n",
    "print(matrix[1][2])\n",
    "\n"
   ]
  },
  {
   "cell_type": "code",
   "execution_count": null,
   "id": "4316864a",
   "metadata": {},
   "outputs": [
    {
     "name": "stdout",
     "output_type": "stream",
     "text": [
      "hello\n",
      "world\n",
      "python\n",
      "e\n",
      "r\n",
      "h\n",
      "e r h\n"
     ]
    }
   ],
   "source": [
    "#nested strings\n",
    "nested_strings = [\"hello\", \"world\", \"python\", \"programming\", \"is\", \"fun\"]\n",
    "print(nested_strings[0])\n",
    "print(nested_strings[1])\n",
    "print(nested_strings[2])\n",
    "print(nested_strings[0][1])\n",
    "print(nested_strings[1][2])\n",
    "print(nested_strings[2][3])\n",
    "print(nested_strings[0][1], nested_strings[1][2], nested_strings[2][3])\n",
    "                  "
   ]
  },
  {
   "cell_type": "code",
   "execution_count": null,
   "id": "8ebcd756",
   "metadata": {},
   "outputs": [
    {
     "name": "stdout",
     "output_type": "stream",
     "text": [
      "[1, 1, 1]\n",
      "[1, 1, 1]\n",
      "[1, 1, 1]\n",
      "[[1, 1, 1], [1, 1, 1], [1, 1, 1]]\n",
      "[1, 1, 1]\n",
      "[1, 1, '0']\n",
      "[1, 1, 1]\n"
     ]
    }
   ],
   "source": [
    "#Ex8\n",
    "r1=[1,1,1]\n",
    "r2=[1,1,1]\n",
    "r3=[1,1,1]\n",
    "mx=[r1,r2,r3]\n",
    "print(f\"{r1}\\n{r2}\\n{r3}\")\n",
    "print(mx)\n",
    "i=input('enter sep')\n",
    "\n",
    "row=int(i[0])\n",
    "col=int(i[1])\n",
    "row_selected=mx[row-1]# row willn 0 to 2\n",
    "row_selected[col-1]=\"0\"\n",
    "\n",
    "print(f\"{r1}\\n{r2}\\n{r3}\")\n",
    "\n",
    "\n"
   ]
  },
  {
   "cell_type": "code",
   "execution_count": null,
   "id": "3fac293c",
   "metadata": {},
   "outputs": [
    {
     "name": "stdout",
     "output_type": "stream",
     "text": [
      "1\n",
      "0\n",
      "invalid\n"
     ]
    }
   ],
   "source": [
    "#Ex9\n",
    "import random\n",
    "i=int(input('enter'))\n",
    "j=random.randint(1,3)\n",
    "print(j)\n",
    "print(i)\n",
    "if i<=0:\n",
    "    print(\"invalid\")\n",
    "    \n",
    "elif i==j:\n",
    "    print(\"draw\")\n",
    "elif i<j:\n",
    "    print(\"win com\")\n",
    "elif i>j:\n",
    "    print(\"win you\")\n",
    "\n",
    "    "
   ]
  },
  {
   "cell_type": "code",
   "execution_count": null,
   "id": "ccc65f30",
   "metadata": {},
   "outputs": [],
   "source": [
    "#tuples\n",
    "t=(1,2,3,4,5)\n",
    "print(t)\n",
    "print(t[0])\n",
    "print(t[1:3])\n",
    "print(t[::-1])\n",
    "t[0]=10\n",
    "print(t)\n",
    "\n",
    "#tuple methods\n",
    "t=(1,2,3,4,5)\n",
    "print(len(t))\n",
    "print(max(t))\n",
    "print(min(t))\n",
    "print(sum(t))\n",
    "print(t.count(3))\n",
    "print(t.index(3))\n",
    "\n",
    "#tuple comprehension\n",
    "t=(i for i in range(1,11))\n",
    "print(t)\n",
    "t=(i for i in range(1,11) if i%2==0)\n",
    "print(t)\n",
    "t=(i for i in range(1,11) if i%2!=0)\n",
    "print(t)\n",
    "t=(i**2 for i in range(1,11))\n",
    "print(t)\n",
    "t=(i**2 for i in range(1,11) if i%2==0)\n",
    "print(t)\n",
    "t=(i**2 for i in range(1,11) if i%2!=0)\n",
    "\n",
    "\n",
    "\n",
    "\n",
    "#tuple uses\n",
    "fruits=(\"apple\",\"banana\",\"cherry\")\n",
    "print(fruits[0])\n",
    "print(fruits[-1])\n",
    "print(fruits[1:3])\n",
    "print(fruits[::2])\n",
    "print(fruits[::-1])\n",
    "print(fruits[1:5:2])\n",
    "\n",
    "#tuple conditions\n",
    "print(len(fruits))\n",
    "print(fruits[0] in fruits)\n",
    "print(\"apple\" in fruits)\n",
    "print(\"orange\" not in fruits)\n",
    "\n"
   ]
  },
  {
   "cell_type": "code",
   "execution_count": null,
   "id": "ad5d82cf",
   "metadata": {},
   "outputs": [
    {
     "name": "stdout",
     "output_type": "stream",
     "text": [
      "{1, 2, 3, 4, 5}\n",
      "<class 'set'>\n",
      "{1, 2, 3, 4, 5, 6}\n",
      "{1, 2, 3, 4, 5, 6, 7, 8, 9}\n",
      "{1, 3, 4, 5, 6, 7, 8, 9}\n",
      "{1, 4, 5, 6, 7, 8, 9}\n",
      "{4, 5, 6, 7, 8, 9}\n",
      "5\n",
      "5\n",
      "1\n"
     ]
    },
    {
     "ename": "TypeError",
     "evalue": "'int' object is not callable",
     "output_type": "error",
     "traceback": [
      "\u001b[1;31m---------------------------------------------------------------------------\u001b[0m",
      "\u001b[1;31mTypeError\u001b[0m                                 Traceback (most recent call last)",
      "Cell \u001b[1;32mIn[49], line 23\u001b[0m\n\u001b[0;32m     21\u001b[0m \u001b[38;5;28mprint\u001b[39m(\u001b[38;5;28mmax\u001b[39m(s))\n\u001b[0;32m     22\u001b[0m \u001b[38;5;28mprint\u001b[39m(\u001b[38;5;28mmin\u001b[39m(s))\n\u001b[1;32m---> 23\u001b[0m \u001b[38;5;28mprint\u001b[39m(\u001b[38;5;28;43msum\u001b[39;49m\u001b[43m(\u001b[49m\u001b[43ms\u001b[49m\u001b[43m)\u001b[49m)\n\u001b[0;32m     24\u001b[0m \u001b[38;5;28mprint\u001b[39m(s\u001b[38;5;241m.\u001b[39mcount(\u001b[38;5;241m3\u001b[39m))\n\u001b[0;32m     27\u001b[0m \u001b[38;5;66;03m#set comprehension\u001b[39;00m\n",
      "\u001b[1;31mTypeError\u001b[0m: 'int' object is not callable"
     ]
    }
   ],
   "source": [
    "#sets\n",
    "s={1,2,3,4,5}\n",
    "print(s)\n",
    "print(type(s))\n",
    "s.add(6)\n",
    "print(s)\n",
    "s.update([7,8,9])\n",
    "print(s)\n",
    "s.remove(2)\n",
    "print(s)\n",
    "s.discard(3)\n",
    "print(s)\n",
    "s.pop()\n",
    "print(s)\n",
    "s.clear()\n",
    "\n",
    "\n",
    "#set methods\n",
    "s={1,2,3,4,5}\n",
    "print(len(s))\n",
    "print(max(s))\n",
    "print(min(s))\n",
    "print(sum(s))\n",
    "print(s.count(3))\n",
    "\n",
    "\n",
    "#set comprehension\n",
    "s={i for i in range(1,11)}\n",
    "print(s)\n",
    "s={i for i in range(1,11) if i%2==0}\n",
    "print(s)\n",
    "s={i for i in range(1,11) if i%2!=0}\n",
    "print(s)\n",
    "s={i**2 for i in range(1,11)}\n",
    "\n",
    "\n",
    "#set uses\n",
    "fruits=(\"apple\",\"banana\",\"cherry\")\n",
    "print(fruits[0])\n",
    "print(fruits[-1])\n",
    "print(fruits[1:3])\n",
    "print(fruits[::2])\n",
    "print(fruits[::-1])\n",
    "\n",
    "\n",
    "#set conditions\n",
    "print(len(fruits))\n",
    "print(\"apple\" in fruits)\n",
    "print(\"orange\" not in fruits)\n"
   ]
  },
  {
   "cell_type": "code",
   "execution_count": null,
   "id": "e1a6772f",
   "metadata": {},
   "outputs": [],
   "source": [
    "#set union\n",
    "s1={1,2,3}\n",
    "s2={3,4,5}\n",
    "print(s1.union(s2))\n",
    "print(s1 | s2)\n",
    "\n",
    "#set intersection   \n",
    "s1={1,2,3}\n",
    "s2={3,4,5}\n",
    "print(s1.intersection(s2))\n",
    "print(s1 & s2)\n",
    "\n",
    "#set difference\n",
    "s1={1,2,3}\n",
    "s2={3,4,5}\n",
    "print(s1.difference(s2))\n",
    "print(s1 - s2)\n",
    "\n",
    "#set symmetric difference\n",
    "s1={1,2,3}\n",
    "s2={3,4,5}\n",
    "print(s1.symmetric_difference(s2))\n",
    "print(s1 ^ s2)\n",
    "\n",
    "#set issubset\n",
    "s1={1,2,3}\n",
    "s2={1,2,3,4,5}\n",
    "print(s1.issubset(s2))\n",
    "print(s1 <= s2)\n",
    "\n",
    "#set issuperset\n",
    "s1={1,2,3}\n",
    "s2={1,2,3,4,5}\n",
    "print(s2.issuperset(s1))\n",
    "print(s2 >= s1)\n",
    "\n",
    "#set equality\n",
    "s1={1,2,3}\n",
    "s2={1,2,3}\n",
    "print(s1 == s2)\n",
    "print(s1 is s2)\n",
    "\n",
    "#set membership\n",
    "s1={1,2,3}\n",
    "print(1 in s1)\n",
    "print(4 in s1)\n",
    "\n",
    "#set operations\n",
    "s1={1,2,3}\n",
    "s2={3,4,5}\n",
    "s3={6,7,8}\n",
    "s4=s1.union(s2)\n",
    "print(s4)\n",
    "s5=s4.intersection(s3)\n",
    "print(s5)\n",
    "s6=s4.difference(s3)\n",
    "print(s6)\n",
    "\n",
    "#updateset\n",
    "s1={1,2,3}\n",
    "s2={4,5,6}\n",
    "s1.update(s2)\n",
    "print(s1)\n",
    "\n",
    "#remove from set\n",
    "s1={1,2,3,4,5}\n",
    "s1.remove(3)\n",
    "print(s1)\n",
    "s1.discard(2)\n",
    "print(s1)\n",
    "s1.pop()"
   ]
  },
  {
   "cell_type": "code",
   "execution_count": null,
   "id": "06396f6a",
   "metadata": {},
   "outputs": [
    {
     "name": "stdout",
     "output_type": "stream",
     "text": [
      "[{1, 2, 3}, {4, 5, 6}, {8, 9, 7}]\n"
     ]
    }
   ],
   "source": [
    "#nested sets\n",
    "s1={1,2,3}\n",
    "s2={4,5,6}\n",
    "s3={7,8,9}\n",
    "nested_set=[s1,s2,s3]\n",
    "print(nested_set)\n"
   ]
  },
  {
   "cell_type": "code",
   "execution_count": null,
   "id": "04d92969",
   "metadata": {},
   "outputs": [
    {
     "name": "stdout",
     "output_type": "stream",
     "text": [
      "['1', '2', '4', '5']\n",
      "(1, 2, 3, '647')\n",
      "{1, 2, 3, '647'}\n",
      "[1, 2, 3, '647']\n",
      "[1, 2, 3, '647']\n",
      "(1, 2, 3, '647')\n",
      "{1, 2, 3, '647'}\n"
     ]
    },
    {
     "ename": "TypeError",
     "evalue": "cannot convert dictionary update sequence element #0 to a sequence",
     "output_type": "error",
     "traceback": [
      "\u001b[1;31m---------------------------------------------------------------------------\u001b[0m",
      "\u001b[1;31mTypeError\u001b[0m                                 Traceback (most recent call last)",
      "Cell \u001b[1;32mIn[22], line 43\u001b[0m\n\u001b[0;32m     41\u001b[0m \u001b[38;5;66;03m#convert set into dictionary\u001b[39;00m\n\u001b[0;32m     42\u001b[0m h\u001b[38;5;241m=\u001b[39m\u001b[38;5;28mset\u001b[39m([\u001b[38;5;241m1\u001b[39m,\u001b[38;5;241m2\u001b[39m,\u001b[38;5;241m3\u001b[39m,\u001b[38;5;124m\"\u001b[39m\u001b[38;5;124m647\u001b[39m\u001b[38;5;124m\"\u001b[39m])\n\u001b[1;32m---> 43\u001b[0m h\u001b[38;5;241m=\u001b[39m\u001b[38;5;28;43mdict\u001b[39;49m\u001b[43m(\u001b[49m\u001b[43mh\u001b[49m\u001b[43m)\u001b[49m\n\u001b[0;32m     44\u001b[0m \u001b[38;5;28mprint\u001b[39m(h)\n\u001b[0;32m     46\u001b[0m \u001b[38;5;66;03m#convert dictionary into set\u001b[39;00m\n",
      "\u001b[1;31mTypeError\u001b[0m: cannot convert dictionary update sequence element #0 to a sequence"
     ]
    }
   ],
   "source": [
    "#convert list into int values\n",
    "h=input(\"enter the list value\").split(\" \")\n",
    "print(h)\n",
    "count=0\n",
    "\n",
    "\n",
    "for i in h:\n",
    "    h[count]=int(i)\n",
    "    count=count+1\n",
    "    \n",
    "#convert list values into tuple\n",
    "h=[1,2,3,\"647\"]\n",
    "h=tuple(h)\n",
    "print(h)\n",
    "\n",
    "#convert list values into set\n",
    "h=[1,2,3,\"647\"]\n",
    "h=set(h)\n",
    "print(h)\n",
    "\n",
    "#convert set into list\n",
    "h=set([1,2,3,\"647\"])\n",
    "h=list(h)\n",
    "print(h)\n",
    "\n",
    "#convert tuple into list\n",
    "h=tuple([1,2,3,\"647\"])\n",
    "h=list(h)\n",
    "print(h)\n",
    "\n",
    "#convert set into tuple\n",
    "h=set([1,2,3,\"647\"])\n",
    "h=tuple(h)\n",
    "print(h)\n",
    "\n",
    "#convert tuple into set\n",
    "h=tuple([1,2,3,\"647\"])\n",
    "h=set(h)\n",
    "print(h)\n",
    "\n",
    "#convert set into dictionary\n",
    "h=set([1,2,3,\"647\"])\n",
    "h=dict(h)\n",
    "print(h)\n",
    "\n",
    "#list into string\n",
    "h=list([1,2,3,\"647\"])\n",
    "h=\" \".join(str(i) for i in h)\n",
    "print(h)\n",
    "\n",
    "#convert string into list\n",
    "h=\"1 2 3 647\"\n",
    "h=h.split(\" \")\n",
    "print(h)\n",
    "\n",
    "#convert dictionary into set\n",
    "h=dict([1,2,3,\"647\"])\n",
    "h=set(h.keys())\n",
    "print(h)\n",
    "\n",
    "#convert dictionary into tuple\n",
    "h=dict([1,2,3,\"647\"])\n",
    "h=tuple(h.items())\n",
    "print(h)\n",
    "\n",
    "#convert dictionary into set\n",
    "h=dict([1,2,3,\"647\"])\n",
    "h=set(h.values())\n",
    "print(h)\n",
    "\n"
   ]
  },
  {
   "cell_type": "code",
   "execution_count": null,
   "id": "78f9350e",
   "metadata": {},
   "outputs": [
    {
     "name": "stdout",
     "output_type": "stream",
     "text": [
      "{1, 2, 3}\n",
      "{4, 5, 6}\n",
      "{8, 9, 7}\n",
      "found\n"
     ]
    }
   ],
   "source": [
    "#forloop\n",
    "for s in nested_set:\n",
    "    print(s)\n",
    "    \n",
    "#for else\n",
    "for s in nested_set:\n",
    "    if 3 in s:\n",
    "        print(\"found\")\n",
    "        break\n",
    "else:\n",
    "    print(\"not found\")\n",
    "    "
   ]
  },
  {
   "cell_type": "code",
   "execution_count": null,
   "id": "154afdde",
   "metadata": {},
   "outputs": [
    {
     "name": "stdout",
     "output_type": "stream",
     "text": [
      "['122', '123', '146', '12345']\n",
      "4\n",
      "[122, 123, 146, 12345]\n",
      "12736\n",
      "3184.0\n"
     ]
    }
   ],
   "source": [
    "h=input(\"enter the list value\").split(\" \")\n",
    "print(h)\n",
    "count=0\n",
    "\n",
    "\n",
    "for i in h:# finding length \n",
    "    count=count+1\n",
    "print(count)\n",
    "\n",
    "\n",
    "\n",
    "  \n",
    "for j in range(count):# convert into int\n",
    "    h[j]=int(h[j])\n",
    "print(h)\n",
    "    \n",
    "\n",
    "\n",
    "#find sum\n",
    "sum=0\n",
    "for i in h:\n",
    "    sum=sum+i\n",
    "print(sum)\n",
    "\n",
    "\n",
    "#find average\n",
    "average=sum/count\n",
    "print(average)\n",
    "#witoout inbuilt function\n",
    "\n",
    "\n",
    "\n",
    "\n",
    "\n"
   ]
  },
  {
   "cell_type": "code",
   "execution_count": null,
   "id": "73f369a1",
   "metadata": {},
   "outputs": [
    {
     "name": "stdout",
     "output_type": "stream",
     "text": [
      "['12', '34', '67', '87', '99']\n",
      "[12, 34, 67, 87, 99]\n",
      "manno 99\n"
     ]
    }
   ],
   "source": [
    "l=input(\"enter a value\").split(\" \")\n",
    "print(l)\n",
    "#find count of length\n",
    "#count=0\n",
    "#for i in l:\n",
    "#    count=count+1\n",
    "#print(count)\n",
    "\n",
    "#or\n",
    "\n",
    "for i in range(0,len(l)):\n",
    "    l[i]=int(l[i])\n",
    "print(l)\n",
    "\n",
    "\n",
    "#max\n",
    "maxno=l[0]\n",
    "for i in l:# 23 45 67 -1 2\n",
    "    if i>maxno:#23\n",
    "        maxno=i#\n",
    "print(\"manno\",maxno)\n",
    "        \n",
    "\n",
    "\n",
    "    "
   ]
  },
  {
   "cell_type": "code",
   "execution_count": 97,
   "id": "be3e817b",
   "metadata": {},
   "outputs": [
    {
     "name": "stdout",
     "output_type": "stream",
     "text": [
      "[1, 2, 3, 4, 5, 6, 7, 8, 9, 10]\n",
      "[10, 9, 8, 7, 6, 5, 4, 3, 2, 1]\n",
      "[10, 8, 6, 4, 2]\n",
      "[2, 4, 6, 8, 10, 12, 14]\n",
      "2\n",
      "3\n",
      "4\n"
     ]
    }
   ],
   "source": [
    "#range function\n",
    "print(list(range(1, 11)))  # [1, 2, 3,\n",
    "\n",
    "\n",
    "#reverse\n",
    "print(list(range(10, 0, -1)))  # [10, 9, 8, 7, 6, 5, 4, 3, 2, 1]\n",
    "print(list(range(10, 0, -2)))  # [10, 8,\n",
    "\n",
    "\n",
    "a=range(2,15,2)\n",
    "print(list(a))\n",
    "\n",
    "\n",
    "\n",
    "\n",
    "b=range(2,5)\n",
    "for i in b:\n",
    "    print(i)\n",
    "\n",
    "\n",
    "\n",
    "\n"
   ]
  },
  {
   "cell_type": "code",
   "execution_count": 100,
   "id": "ff704ae4",
   "metadata": {},
   "outputs": [
    {
     "name": "stdout",
     "output_type": "stream",
     "text": [
      "0\n",
      "2\n",
      "6\n",
      "12\n",
      "20\n",
      "30\n",
      "42\n",
      "56\n",
      "72\n",
      "90\n",
      "110\n",
      "132\n",
      "156\n",
      "182\n",
      "210\n",
      "240\n",
      "272\n",
      "306\n",
      "342\n",
      "380\n",
      "420\n",
      "462\n",
      "506\n",
      "552\n",
      "600\n",
      "650\n",
      "702\n",
      "756\n",
      "812\n",
      "870\n",
      "930\n",
      "992\n",
      "1056\n",
      "1122\n",
      "1190\n",
      "1260\n",
      "1332\n",
      "1406\n",
      "1482\n",
      "1560\n",
      "1640\n",
      "1722\n",
      "1806\n",
      "1892\n",
      "1980\n",
      "2070\n",
      "2162\n",
      "2256\n",
      "2352\n",
      "2450\n"
     ]
    }
   ],
   "source": [
    "c=0\n",
    "for i in range(0,100):\n",
    "    \n",
    "    if i%2==0:\n",
    "        c=c+i\n",
    "        \n",
    "        print(c)"
   ]
  },
  {
   "cell_type": "code",
   "execution_count": 132,
   "id": "61f1f2b5",
   "metadata": {},
   "outputs": [
    {
     "name": "stdout",
     "output_type": "stream",
     "text": [
      "{'hi teja'}\n"
     ]
    }
   ],
   "source": [
    "l1={\"hi teja\" for i in range(0,100)}\n",
    "print(l1)"
   ]
  },
  {
   "cell_type": "code",
   "execution_count": 102,
   "id": "90cb28ed",
   "metadata": {},
   "outputs": [
    {
     "name": "stdout",
     "output_type": "stream",
     "text": [
      "fizzbuzz\n",
      "1\n",
      "2\n",
      "fizz\n",
      "4\n",
      "buzz\n",
      "fizz\n",
      "7\n",
      "8\n",
      "fizz\n",
      "buzz\n",
      "11\n",
      "fizz\n",
      "13\n",
      "14\n",
      "fizzbuzz\n",
      "16\n",
      "17\n",
      "fizz\n",
      "19\n",
      "buzz\n",
      "fizz\n",
      "22\n",
      "23\n",
      "fizz\n",
      "buzz\n",
      "26\n",
      "fizz\n",
      "28\n",
      "29\n",
      "fizzbuzz\n",
      "31\n",
      "32\n",
      "fizz\n",
      "34\n",
      "buzz\n",
      "fizz\n",
      "37\n",
      "38\n",
      "fizz\n",
      "buzz\n",
      "41\n",
      "fizz\n",
      "43\n",
      "44\n",
      "fizzbuzz\n",
      "46\n",
      "47\n",
      "fizz\n",
      "49\n",
      "buzz\n",
      "fizz\n",
      "52\n",
      "53\n",
      "fizz\n",
      "buzz\n",
      "56\n",
      "fizz\n",
      "58\n",
      "59\n",
      "fizzbuzz\n",
      "61\n",
      "62\n",
      "fizz\n",
      "64\n",
      "buzz\n",
      "fizz\n",
      "67\n",
      "68\n",
      "fizz\n",
      "buzz\n",
      "71\n",
      "fizz\n",
      "73\n",
      "74\n",
      "fizzbuzz\n",
      "76\n",
      "77\n",
      "fizz\n",
      "79\n",
      "buzz\n",
      "fizz\n",
      "82\n",
      "83\n",
      "fizz\n",
      "buzz\n",
      "86\n",
      "fizz\n",
      "88\n",
      "89\n",
      "fizzbuzz\n",
      "91\n",
      "92\n",
      "fizz\n",
      "94\n",
      "buzz\n",
      "fizz\n",
      "97\n",
      "98\n",
      "fizz\n"
     ]
    }
   ],
   "source": [
    "for i in range(0,100):\n",
    "    if i%3==0 and i%5==0:\n",
    "        print(\"fizzbuzz\")\n",
    "    elif i%3==0:\n",
    "        print(\"fizz\")\n",
    "    elif i%5==0:\n",
    "        print(\"buzz\")\n",
    "    \n",
    "    else:\n",
    "        print(i)"
   ]
  },
  {
   "cell_type": "code",
   "execution_count": 110,
   "id": "1caadb23",
   "metadata": {},
   "outputs": [
    {
     "name": "stdout",
     "output_type": "stream",
     "text": [
      "['b', 'c', 'c', 'c', 'b', '7', '6', '7', '5', '6', '$', 'b', '%', 'b', '/', 'b', '/', 'b', '*', 'b']\n"
     ]
    }
   ],
   "source": [
    "#passord generator\n",
    "import random\n",
    "import string\n",
    "\n",
    "def generate_password(length=12):\n",
    "    chars=string.ascii_letters + string.digits + string.punctuation\n",
    "    password = ''.join(random.choice(chars) for i in range(length))\n",
    "    print(password)\n",
    "    \n",
    "    \n",
    "    \n",
    "#or \n",
    "# e=ithout inbuilt\n",
    "#all alphabets in list\n",
    "\n",
    "\n",
    "\n",
    "letter=[\"a\",\"b\",\"c\",\"d\",\"e\"]# ..........all alphabets\n",
    "numbers=[1,2,3,4,5,6,7,9]# not string\n",
    "symbols=[\"@\",\"#\",\"$\",\"%\",\"&\",\"*\",\"+\",\"-\",\"/\"]\n",
    "\n",
    "ul=int(input(\"enter no of letter\"))\n",
    "un=int(input(\"enter no of numbers\"))\n",
    "us=int(input(\"enter no of symbols\"))\n",
    "\n",
    "password=[ ]\n",
    "for i in range(1,ul+1):\n",
    "    char=random.choice(letter)\n",
    "    password+=char\n",
    "for i in range(1,un+1):\n",
    "    val=random.choice(numbers)\n",
    "    password+=str(val)#convert string\n",
    "for i in range(1,us+1):\n",
    "    sym=random.choice(symbols)\n",
    "    password+=sym\n",
    "    \n",
    "    \n",
    "    \n",
    "    password+=char\n",
    "    \n",
    "print(password)\n",
    "            "
   ]
  },
  {
   "cell_type": "code",
   "execution_count": 2,
   "id": "236db016",
   "metadata": {},
   "outputs": [
    {
     "name": "stdout",
     "output_type": "stream",
     "text": [
      "1\n",
      "2\n",
      "3\n",
      "-1\n",
      "-3\n",
      "4\n",
      "No zero in list\n",
      "Zero\n"
     ]
    }
   ],
   "source": [
    "#\n",
    "list=[1,2,3,-1,-3,4]\n",
    "for i in list:\n",
    "    print(i)\n",
    "    \n",
    "for i in list:\n",
    "    if i==0:\n",
    "        print(\"Zero\")\n",
    "        break\n",
    "else:\n",
    "    print(\"No zero in list\")\n",
    "    #\"No zero in list\" ans\n",
    "    \n",
    "    \n",
    "    \n",
    "# diff hrer for else stmt    \n",
    "    \n",
    "    \n",
    "    \n",
    "        \n",
    "l2=(1,-2,4,5,0)\n",
    "for i in l2:\n",
    "    if i==0:\n",
    "        print(\"Zero\")\n",
    "        break\n",
    "else:\n",
    "    print(\"No zero in list\")\n",
    "    #zero is ans"
   ]
  },
  {
   "cell_type": "code",
   "execution_count": null,
   "id": "436675f9",
   "metadata": {},
   "outputs": [],
   "source": [
    "#while :user is not None how many to excute.in this time while loop\n",
    "i=0\n",
    "while i<10:\n",
    "    print(i)\n",
    "    i=i+1\n",
    "    \n",
    "#for loop\n",
    "for i in range(10):\n",
    "    print(i)\n",
    "    \n",
    "\n",
    "#do while\n",
    "i=0\n",
    "while True:\n",
    "    print(i)\n",
    "    i=i+1\n",
    "    if i==10:\n",
    "        break\n",
    "    \n",
    "    \n",
    "\n",
    "#nested loop\n",
    "for i in range(1,11):\n",
    "    for j in range(1,11):\n",
    "        print(i,\"*\",j,\"=\",i*j)\n",
    "    print(\"---------\")"
   ]
  },
  {
   "cell_type": "code",
   "execution_count": 118,
   "id": "36ab821f",
   "metadata": {},
   "outputs": [
    {
     "name": "stdout",
     "output_type": "stream",
     "text": [
      "welocme while loop\n",
      "exit\n"
     ]
    }
   ],
   "source": [
    "#while else\n",
    "i=\"yes\"\n",
    "while i==\"yes\":\n",
    "    for i in range (0,1):\n",
    "        print(\"welocme while loop\")#using break stmt else not excute\n",
    "else:\n",
    "    print(\"exit\")\n",
    "    \n",
    "    \n",
    "\n",
    "    \n",
    "\n",
    "    "
   ]
  },
  {
   "cell_type": "code",
   "execution_count": 11,
   "id": "622a286b",
   "metadata": {},
   "outputs": [
    {
     "name": "stdout",
     "output_type": "stream",
     "text": [
      "20\n",
      "0\n",
      "1\n",
      "2\n",
      "3\n",
      "4\n",
      "0\n",
      "1\n",
      "2\n",
      "3\n",
      "4\n",
      "5\n",
      "6\n",
      "7\n",
      "8\n",
      "9\n",
      "10\n",
      "11\n",
      "12\n",
      "13\n",
      "14\n",
      "15\n",
      "16\n",
      "17\n",
      "18\n",
      "19\n",
      "20\n",
      "21\n",
      "22\n",
      "23\n",
      "24\n",
      "25\n",
      "26\n",
      "27\n",
      "28\n",
      "29\n"
     ]
    }
   ],
   "source": [
    "#break\n",
    "for i in range(0,100):\n",
    "    if i==20:\n",
    "        print(i)\n",
    "        break\n",
    "        \n",
    "        \n",
    "#contiune: if cond is ture then will wexcute .false that is terminate\n",
    "for i in range(0,5):\n",
    "    if i==20:\n",
    "        print(i)\n",
    "        continue\n",
    "    print(i)\n",
    "\n",
    "    \n",
    "for i in range(0,30):\n",
    "    if i!=20:\n",
    "        print(i)\n",
    "        continue\n",
    "    print(i)\n",
    "    "
   ]
  },
  {
   "cell_type": "code",
   "execution_count": 14,
   "id": "d41e863d",
   "metadata": {},
   "outputs": [
    {
     "name": "stdout",
     "output_type": "stream",
     "text": [
      "0\n",
      "hi\n",
      "1\n",
      "hi\n",
      "2\n",
      "hi\n",
      "3\n",
      "hi\n",
      "4\n",
      "hi\n",
      "5\n",
      "hi\n",
      "6\n",
      "7\n",
      "hi\n",
      "8\n",
      "hi\n",
      "9\n",
      "hi\n",
      "10\n",
      "hi\n",
      "tehits\n"
     ]
    }
   ],
   "source": [
    "#contine\n",
    "i=0\n",
    "while i<=10:\n",
    "    print(i)\n",
    "    i+=1\n",
    "    if i==7:\n",
    "        continue\n",
    "    print(\"hi\")\n",
    "print(\"tehits\")"
   ]
  },
  {
   "cell_type": "code",
   "execution_count": 15,
   "id": "659ac854",
   "metadata": {},
   "outputs": [
    {
     "name": "stdout",
     "output_type": "stream",
     "text": [
      "0\n",
      "1\n",
      "2\n",
      "3\n",
      "4\n",
      "5\n",
      "6\n",
      "hi\n",
      "7\n",
      "8\n",
      "9\n",
      "10\n",
      "tehits\n"
     ]
    }
   ],
   "source": [
    "i=0\n",
    "while i<=10:\n",
    "    print(i)\n",
    "    i+=1\n",
    "    if i!=7:\n",
    "        continue\n",
    "    print(\"hi\")\n",
    "print(\"tehits\")"
   ]
  },
  {
   "cell_type": "code",
   "execution_count": 4,
   "id": "d8b90613",
   "metadata": {},
   "outputs": [
    {
     "name": "stdout",
     "output_type": "stream",
     "text": [
      "1\n",
      "2\n",
      "3\n",
      "4\n",
      "6\n",
      "7\n",
      "8\n",
      "9\n",
      "1\n",
      "2\n",
      "3\n",
      "4\n",
      "1\n",
      "2\n",
      "3\n",
      "4\n",
      "5\n",
      "6\n",
      "7\n",
      "8\n",
      "9\n"
     ]
    }
   ],
   "source": [
    "for i in range(1,10):\n",
    "    if i==5:\n",
    "        continue\n",
    "    print(i)\n",
    "    \n",
    "    \n",
    "for i in range(1,10):\n",
    "    if i==5:\n",
    "        break\n",
    "    print(i)\n",
    "    \n",
    "    \n",
    "for i in range(1,10):\n",
    "    if i==5:\n",
    "        pass\n",
    "    print(i)"
   ]
  },
  {
   "cell_type": "code",
   "execution_count": 3,
   "id": "ef3081f6",
   "metadata": {},
   "outputs": [
    {
     "name": "stdout",
     "output_type": "stream",
     "text": [
      "6 here i val\n",
      "7 here its mul \n"
     ]
    }
   ],
   "source": [
    "#return vs print\n",
    "def fun(a,b):\n",
    "    c=a+b\n",
    "    print(c,\"here i val\")\n",
    "    return c# here will \"return\" will future c values is used\n",
    "    \n",
    "def mul(x):\n",
    "    x=x+1\n",
    "    print(x,\"here its mul \")\n",
    "    \n",
    "    \n",
    "    \n",
    "i=fun(2,4)# fun is method is using another one ,now here i=6 \n",
    "j=mul(i)#mul is 7 using before method "
   ]
  },
  {
   "cell_type": "code",
   "execution_count": null,
   "id": "2fbbd6c5",
   "metadata": {},
   "outputs": [],
   "source": [
    "\n",
    "# exaple of return\n",
    "\n",
    "def amu():\n",
    "    x=1000\n",
    "    print(\"ur amount is\",x)\n",
    "    return x\n",
    "    \n",
    "    \n",
    "    \n",
    "    \n",
    "def withdraw(x):\n",
    "    i=int(input(\"enter a val for withdraw\"))\n",
    "    x-=i\n",
    "    print(\"ur cuurnt amount is\",x)\n",
    "    return x\n",
    "    \n",
    "    \n",
    "    \n",
    "    \n",
    "def deposit(x):\n",
    "    i=int(input(\"enter a val for withdraw\"))\n",
    "    x+=i\n",
    "    print(\"ur cuurnt amount is\",x)\n",
    "    return x\n",
    "        \n",
    "    \n",
    "    \n",
    "i=amu()\n",
    "j=withdraw(i)\n",
    "k=deposit(j)"
   ]
  },
  {
   "cell_type": "code",
   "execution_count": 4,
   "id": "3f0ec5b5",
   "metadata": {},
   "outputs": [
    {
     "data": {
      "text/plain": [
       "'hello world'"
      ]
     },
     "execution_count": 4,
     "metadata": {},
     "output_type": "execute_result"
    }
   ],
   "source": [
    "#functions\n",
    "def greet():\n",
    "    return f\"hello world\"\n",
    "# Example usage\n",
    "greet()\n"
   ]
  },
  {
   "cell_type": "code",
   "execution_count": null,
   "id": "588c046e",
   "metadata": {},
   "outputs": [],
   "source": []
  },
  {
   "cell_type": "code",
   "execution_count": 5,
   "id": "60f5db0d",
   "metadata": {},
   "outputs": [
    {
     "data": {
      "text/plain": [
       "'Hello, Alice!'"
      ]
     },
     "execution_count": 5,
     "metadata": {},
     "output_type": "execute_result"
    }
   ],
   "source": [
    "#2. Function with Arguments\n",
    "def greet_user(name):\n",
    "    return f\"Hello, {name}!\"\n",
    "\n",
    "# Example usage\n",
    "greet_user(\"Alice\")\n"
   ]
  },
  {
   "cell_type": "code",
   "execution_count": 4,
   "id": "31eb66bb",
   "metadata": {},
   "outputs": [
    {
     "name": "stdout",
     "output_type": "stream",
     "text": [
      "15\n"
     ]
    }
   ],
   "source": [
    "# Function with a Return Value\n",
    "def add_numbers(a, b):\n",
    "    return a + b\n",
    "\n",
    "# Example usage\n",
    "result = add_numbers(5, 10)\n",
    "print(result)  # Output: 15\n"
   ]
  },
  {
   "cell_type": "code",
   "execution_count": 3,
   "id": "127d37dc",
   "metadata": {},
   "outputs": [
    {
     "name": "stdout",
     "output_type": "stream",
     "text": [
      "Hello, Guest!\n",
      "Hello, Bob!\n"
     ]
    }
   ],
   "source": [
    "#Function with Default Arguments\n",
    "def greet_user(name=\"Guest\"):\n",
    "    print(f\"Hello, {name}!\")\n",
    "\n",
    "# Example usage\n",
    "greet_user()       # Output: Hello, Guest!\n",
    "greet_user(\"Bob\")  # Output: Hello, Bob!\n"
   ]
  },
  {
   "cell_type": "code",
   "execution_count": 35,
   "id": "274fb34e",
   "metadata": {},
   "outputs": [
    {
     "name": "stdout",
     "output_type": "stream",
     "text": [
      "-1\n",
      "-5\n"
     ]
    }
   ],
   "source": [
    "#Function with Variable Number of Arguments (*args)\n",
    "def sum_numbers(*args):\n",
    "    return sum(args)\n",
    "\n",
    "def sum_numbers(*args):\n",
    "    sub=0\n",
    "    for i in args:\n",
    "        sub-=i\n",
    "        return sub\n",
    "    \n",
    "\n",
    "\n",
    "# Example usage\n",
    "print(sum_numbers(1, 2, 3, 4))  # Output: 10\n",
    "print(sum_numbers(5, 10))       # Output: 15\n"
   ]
  },
  {
   "cell_type": "code",
   "execution_count": 1,
   "id": "112d5ec3",
   "metadata": {},
   "outputs": [
    {
     "name": "stdout",
     "output_type": "stream",
     "text": [
      "name: Alice\n",
      "age: 30\n",
      "city: New York\n"
     ]
    }
   ],
   "source": [
    "# Function with Keyword Arguments (**kwargs)\n",
    "def print_user_info(**kwargs):\n",
    "    for key, value in kwargs.items():\n",
    "        print(f\"{key}: {value}\")\n",
    "\n",
    "# Example usage\n",
    "print_user_info(name=\"Alice\", age=30, city=\"New York\")\n"
   ]
  },
  {
   "cell_type": "code",
   "execution_count": 7,
   "id": "df0c73b2",
   "metadata": {},
   "outputs": [],
   "source": [
    "#pass\n",
    "for i in range(5):\n",
    "    pass# do nothing for future using"
   ]
  },
  {
   "cell_type": "code",
   "execution_count": 8,
   "id": "f618c28f",
   "metadata": {},
   "outputs": [
    {
     "name": "stdout",
     "output_type": "stream",
     "text": [
      "{'name': 'teja', 'rollno': 123}\n"
     ]
    },
    {
     "data": {
      "text/plain": [
       "123"
      ]
     },
     "execution_count": 8,
     "metadata": {},
     "output_type": "execute_result"
    }
   ],
   "source": [
    "#dictionary are ordered\n",
    "d={\"name\":\"teja\",\"rollno\":123}\n",
    "print(d)\n",
    "\n",
    "#accessing dictionary\n",
    "#keys are immutable and values are mutablee(changes) and duplicate allowed\n",
    "\n",
    "d[\"rollno\"]\n",
    "\n"
   ]
  },
  {
   "cell_type": "code",
   "execution_count": 11,
   "id": "9a92d60e",
   "metadata": {},
   "outputs": [
    {
     "name": "stdout",
     "output_type": "stream",
     "text": [
      "{'name': 'kk', 'age': 20, 'city': 'hyd'}\n"
     ]
    }
   ],
   "source": [
    "k={\n",
    "    \"name\":\"teja\",\n",
    "    \"age\":20,\n",
    "    \"city\":\"hyd\",\n",
    "    \"name\":\"kk\" #duplicae not allowed\n",
    "}\n",
    "print(k)"
   ]
  },
  {
   "cell_type": "code",
   "execution_count": 9,
   "id": "4cf78d58",
   "metadata": {},
   "outputs": [
    {
     "data": {
      "text/plain": [
       "20"
      ]
     },
     "execution_count": 9,
     "metadata": {},
     "output_type": "execute_result"
    }
   ],
   "source": [
    "k[\"age\"]"
   ]
  },
  {
   "cell_type": "code",
   "execution_count": 13,
   "id": "3ad1971e",
   "metadata": {},
   "outputs": [
    {
     "data": {
      "text/plain": [
       "{'name': 'eswarteja', 'age': 20, 'city': 'hyd'}"
      ]
     },
     "execution_count": 13,
     "metadata": {},
     "output_type": "execute_result"
    }
   ],
   "source": [
    "k[\"name\"]=\"eswarteja\"\n",
    "k"
   ]
  },
  {
   "cell_type": "code",
   "execution_count": 15,
   "id": "1001a64f",
   "metadata": {},
   "outputs": [
    {
     "data": {
      "text/plain": [
       "{'name': 'eswarteja', 'age': {22, 24}, 'city': 'hyd'}"
      ]
     },
     "execution_count": 15,
     "metadata": {},
     "output_type": "execute_result"
    }
   ],
   "source": [
    "k[\"age\"]={22,24}\n",
    "k"
   ]
  },
  {
   "cell_type": "code",
   "execution_count": 17,
   "id": "b08794fb",
   "metadata": {},
   "outputs": [
    {
     "data": {
      "text/plain": [
       "{'name': 'eswarteja', 'age': {'yestr': 22, 'today': 24}, 'city': 'hyd'}"
      ]
     },
     "execution_count": 17,
     "metadata": {},
     "output_type": "execute_result"
    }
   ],
   "source": [
    "k[\"age\"]={\"yestr\":22,\"today\":24}\n",
    "k"
   ]
  },
  {
   "cell_type": "code",
   "execution_count": 18,
   "id": "2d03cd7e",
   "metadata": {},
   "outputs": [
    {
     "data": {
      "text/plain": [
       "{'yestr': 22, 'today': 24}"
      ]
     },
     "execution_count": 18,
     "metadata": {},
     "output_type": "execute_result"
    }
   ],
   "source": [
    "k[\"age\"]"
   ]
  },
  {
   "cell_type": "code",
   "execution_count": 26,
   "id": "6343dd02",
   "metadata": {},
   "outputs": [],
   "source": [
    "del k[\"city\"]\n"
   ]
  },
  {
   "cell_type": "code",
   "execution_count": 28,
   "id": "9406d370",
   "metadata": {},
   "outputs": [
    {
     "data": {
      "text/plain": [
       "'eswarteja'"
      ]
     },
     "execution_count": 28,
     "metadata": {},
     "output_type": "execute_result"
    }
   ],
   "source": [
    "k.pop(\"name\")"
   ]
  },
  {
   "cell_type": "code",
   "execution_count": 30,
   "id": "0cfe4e94",
   "metadata": {},
   "outputs": [
    {
     "data": {
      "text/plain": [
       "dict_keys(['name', 'rollno'])"
      ]
     },
     "execution_count": 30,
     "metadata": {},
     "output_type": "execute_result"
    }
   ],
   "source": [
    "j={\"name\":\"teja\",\"rollno\":123}\n",
    "j.keys()"
   ]
  },
  {
   "cell_type": "code",
   "execution_count": 31,
   "id": "cdd60cc5",
   "metadata": {},
   "outputs": [
    {
     "data": {
      "text/plain": [
       "dict_values(['teja', 123])"
      ]
     },
     "execution_count": 31,
     "metadata": {},
     "output_type": "execute_result"
    }
   ],
   "source": [
    "j.values()"
   ]
  },
  {
   "cell_type": "code",
   "execution_count": 32,
   "id": "76273c09",
   "metadata": {},
   "outputs": [
    {
     "data": {
      "text/plain": [
       "dict_items([('name', 'teja'), ('rollno', 123)])"
      ]
     },
     "execution_count": 32,
     "metadata": {},
     "output_type": "execute_result"
    }
   ],
   "source": [
    "j.items()"
   ]
  },
  {
   "cell_type": "code",
   "execution_count": 34,
   "id": "7e9463b7",
   "metadata": {},
   "outputs": [
    {
     "name": "stdout",
     "output_type": "stream",
     "text": [
      "name\n",
      "teja\n",
      "rollno\n",
      "123\n"
     ]
    }
   ],
   "source": [
    "for i in j:\n",
    "    print(i)#key\n",
    "    print(j[i])#val"
   ]
  },
  {
   "cell_type": "code",
   "execution_count": 37,
   "id": "e18d6dfa",
   "metadata": {},
   "outputs": [
    {
     "data": {
      "text/plain": [
       "2"
      ]
     },
     "execution_count": 37,
     "metadata": {},
     "output_type": "execute_result"
    }
   ],
   "source": [
    "h=j.copy()\n",
    "h\n",
    "len(h)"
   ]
  },
  {
   "cell_type": "code",
   "execution_count": null,
   "id": "83bfec22",
   "metadata": {},
   "outputs": [],
   "source": [
    "dict={\n",
    "    \"esw\":90,\n",
    "    \"tej\":84,\n",
    "    \"pra\":99,\n",
    "    \"nag\":75,\n",
    "    \"rag\":62\n",
    "}\n",
    "\n",
    "g1={}\n",
    "\n",
    "\n",
    "\n",
    "\n",
    "for i in dict:\n",
    "   print(dict[i])\n",
    "   if dict[i]>90:\n",
    "       g1[i]=\"a+\"\n",
    "   elif dict[i]>85:\n",
    "       g1[i]=\"a\"\n",
    "   elif dict[i]>79:\n",
    "       g1[i]=\"b\"\n",
    "   elif dict[i]>85:\n",
    "       g1[i]=\"c\"\n",
    "   elif dict[i]>65:\n",
    "       g1[i]=\"fail\"\n",
    "\n",
    "print(g1)"
   ]
  },
  {
   "cell_type": "code",
   "execution_count": 1,
   "id": "36100824",
   "metadata": {},
   "outputs": [
    {
     "name": "stdout",
     "output_type": "stream",
     "text": [
      "{'tej': {'id': 4414, 'sec': 'ds'}, 'pra': {'id': 4414, 'sec': 'ds'}}\n"
     ]
    }
   ],
   "source": [
    "#nested dict\n",
    "std={\n",
    "    \"tej\":{\"id\":4414,\"sec\":\"ds\"},\n",
    "    \"pra\":{\"id\":4414,\"sec\":\"ds\"}\n",
    "    }\n",
    "print(std)"
   ]
  },
  {
   "cell_type": "code",
   "execution_count": 2,
   "id": "9cc36e9c",
   "metadata": {},
   "outputs": [
    {
     "data": {
      "text/plain": [
       "{'id': 4414, 'sec': 'ds'}"
      ]
     },
     "execution_count": 2,
     "metadata": {},
     "output_type": "execute_result"
    }
   ],
   "source": [
    "std[\"tej\"]\n"
   ]
  },
  {
   "cell_type": "code",
   "execution_count": 3,
   "id": "217d5f77",
   "metadata": {},
   "outputs": [
    {
     "name": "stdout",
     "output_type": "stream",
     "text": [
      "4414\n"
     ]
    }
   ],
   "source": [
    "print(std[\"tej\"][\"id\"])"
   ]
  },
  {
   "cell_type": "code",
   "execution_count": 5,
   "id": "0d2fa9b1",
   "metadata": {},
   "outputs": [
    {
     "name": "stdout",
     "output_type": "stream",
     "text": [
      "{'id': 4414, 'sec': 'ds', 'phno': 56789}\n"
     ]
    }
   ],
   "source": [
    "#add dict in \n",
    "std[\"tej\"][\"phno\"]=56789\n",
    "print(std[\"tej\"])"
   ]
  },
  {
   "cell_type": "code",
   "execution_count": 6,
   "id": "5834fce6",
   "metadata": {},
   "outputs": [],
   "source": [
    "#del\n",
    "del std[\"tej\"][\"sec\"]"
   ]
  },
  {
   "cell_type": "code",
   "execution_count": 7,
   "id": "2b24073e",
   "metadata": {},
   "outputs": [
    {
     "data": {
      "text/plain": [
       "{'id': 4414, 'phno': 56789}"
      ]
     },
     "execution_count": 7,
     "metadata": {},
     "output_type": "execute_result"
    }
   ],
   "source": [
    "std[\"tej\"]"
   ]
  },
  {
   "cell_type": "code",
   "execution_count": 31,
   "id": "680110b4",
   "metadata": {},
   "outputs": [
    {
     "name": "stdout",
     "output_type": "stream",
     "text": [
      "[{'name': 'tej', 'id': 4414}, {'name': 'ifr', 'id': 4450}, {'name': 'esw', 'id': 44162}]\n"
     ]
    }
   ],
   "source": [
    "l1=[\n",
    "    {\n",
    "        \"name\":\"tej\",\n",
    "        \"id\":4414\n",
    "    },\n",
    "    \n",
    "    {\n",
    "        \"name\":\"ifr\",\n",
    "        \"id\":4450\n",
    "    }\n",
    "]\n",
    "\n",
    "\n",
    "\n",
    "def add_new(name,id):\n",
    "    l2={}\n",
    "    l2[\"name\"]=name\n",
    "    l2[\"id\"]=id\n",
    "    l1.append(l2)\n",
    "    print(l1)\n",
    "    \n",
    "add_new(\"esw\",44162)\n",
    "    \n",
    "    \n",
    "\n",
    "   "
   ]
  },
  {
   "cell_type": "code",
   "execution_count": 1,
   "id": "4f9d7361",
   "metadata": {},
   "outputs": [
    {
     "name": "stdout",
     "output_type": "stream",
     "text": [
      "your name is teja and bit is3000\n",
      "complete bit \n"
     ]
    },
    {
     "ename": "TypeError",
     "evalue": "'int' object is not iterable",
     "output_type": "error",
     "traceback": [
      "\u001b[1;31m---------------------------------------------------------------------------\u001b[0m",
      "\u001b[1;31mTypeError\u001b[0m                                 Traceback (most recent call last)",
      "Cell \u001b[1;32mIn[1], line 17\u001b[0m\n\u001b[0;32m     14\u001b[0m \u001b[38;5;28;01mif\u001b[39;00m i\u001b[38;5;241m==\u001b[39m\u001b[38;5;124m\"\u001b[39m\u001b[38;5;124mno\u001b[39m\u001b[38;5;124m\"\u001b[39m:\n\u001b[0;32m     15\u001b[0m     \u001b[38;5;28mprint\u001b[39m(\u001b[38;5;124m\"\u001b[39m\u001b[38;5;124mcomplete bit \u001b[39m\u001b[38;5;124m\"\u001b[39m)\n\u001b[1;32m---> 17\u001b[0m \u001b[38;5;28;43;01mfor\u001b[39;49;00m\u001b[43m \u001b[49m\u001b[43mi\u001b[49m\u001b[43m \u001b[49m\u001b[38;5;129;43;01min\u001b[39;49;00m\u001b[43m \u001b[49m\u001b[43mbit\u001b[49m\u001b[43m:\u001b[49m\n\u001b[0;32m     18\u001b[0m \u001b[43m    \u001b[49m\u001b[38;5;28;43;01mif\u001b[39;49;00m\u001b[43m \u001b[49m\u001b[43mcom_bit\u001b[49m\u001b[38;5;241;43m<\u001b[39;49m\u001b[43mbit\u001b[49m\u001b[43m:\u001b[49m\n\u001b[0;32m     19\u001b[0m \u001b[43m       \u001b[49m\u001b[43mcom_bit\u001b[49m\u001b[38;5;241;43m=\u001b[39;49m\u001b[43mbit\u001b[49m\n",
      "\u001b[1;31mTypeError\u001b[0m: 'int' object is not iterable"
     ]
    }
   ],
   "source": [
    "\n",
    "com_bit=0   \n",
    "name=input(\"enter ur name\")\n",
    "bit=int(input(\"waht is bit\"))\n",
    "i=input(\"is there any bit one\")\n",
    "print(f\"your name is {name} and bit is{bit}\")\n",
    "\n",
    "\n",
    "while i==\"yes\":\n",
    "    name=input(\"enter ur name\")\n",
    "    bit=int(input(\"waht is bit\"))\n",
    "    i=input(\"is there any bit one\")\n",
    "    print(f\"your name is {name} and bit is{bit}\")\n",
    "\n",
    "if i==\"no\":\n",
    "    print(\"complete bit \")\n",
    "    \n",
    "for i in bit:\n",
    "    if com_bit<bit:\n",
    "       com_bit=bit\n",
    "    print(f\"the auc winner is {name} with his {bit}\")\n",
    "    \n",
    "\n",
    "    \n",
    "\n",
    "    \n",
    "\n",
    "    \n"
   ]
  },
  {
   "cell_type": "code",
   "execution_count": null,
   "id": "b07935db",
   "metadata": {},
   "outputs": [],
   "source": [
    "#global and local var\n",
    "a=10\n",
    "def fun():\n",
    "    print(a)#cnait modify a values\n",
    "fun()\n",
    "\n",
    "def up_fun():\n",
    "    global a\n",
    "    a=a+1\n",
    "    print(f\"after {a}modiy value\")\n",
    "    \n",
    "up_fun()\n",
    "\n",
    "\n"
   ]
  },
  {
   "cell_type": "code",
   "execution_count": null,
   "id": "14ff94d4",
   "metadata": {},
   "outputs": [],
   "source": [
    "c=20\n",
    "\n",
    "#non local\n",
    "def gain():\n",
    "    global c\n",
    "    d=21\n",
    "    print(d)#cnait modify a values\n",
    "    \n",
    "    \n",
    "    #local\n",
    "    def su():\n",
    "        print(c,\"c values repsent\")\n",
    "        nonlocal d# acessinf the nonlocal varible in gain fun\n",
    "        print(d)\n",
    "        d=d+1\n",
    "        print(\"after update d\",d)\n",
    "        f=8\n",
    "        print(\"here f is\",f)\n",
    "        \n",
    "    def kk():\n",
    "        global c \n",
    "        c+=7\n",
    "        print(\"after g var and upwith kk\",c)\n",
    "       \n",
    "            \n",
    "            \n",
    "            \n",
    "            \n",
    "        \n",
    "    kk()\n",
    "    su()\n",
    "gain()\n"
   ]
  },
  {
   "cell_type": "code",
   "execution_count": null,
   "id": "f5d1e33d",
   "metadata": {},
   "outputs": [],
   "source": [
    "# by class\n",
    "\n",
    "name=input(\"enter ur name\")\n",
    "bit=int(input(\"waht is bit\"))\n",
    "i=input(\"is there any bit one\")\n",
    "print(f\"your name is {name} and bit is{bit}\")\n"
   ]
  },
  {
   "cell_type": "code",
   "execution_count": null,
   "id": "2760c33d",
   "metadata": {},
   "outputs": [],
   "source": [
    "class Intro:\n",
    "    \n",
    "    \n",
    "    \n",
    "    \n",
    "    def __init__(self,name,address,salary):\n",
    "        self.name=name\n",
    "        self.address=address\n",
    "        self.salary=salary\n",
    "        \n",
    "        \n",
    "        \n",
    "        \n",
    "        \n",
    "class Job:\n",
    "    def __init__(self,name,idi,dos):\n",
    "        self.name=name\n",
    "        self.idi=idi\n",
    "        self.dos=dos\n",
    "        \n",
    "        \n",
    "        \n",
    "    \n",
    "i=Intro(\"teja\",\"pnpuri\",1234)\n",
    "print(i.name,i.address,i.salary)\n",
    "\n",
    "\n",
    "\n",
    "j=Job(\"teja\",\"id101\",\"manger\")\n",
    "print(j.dos)\n",
    "\n",
    "\n",
    "\n",
    "j.proid=\"12weaa\"\n",
    "print(j.proid)\n",
    "\n",
    "\n"
   ]
  },
  {
   "cell_type": "code",
   "execution_count": 6,
   "id": "637b3781",
   "metadata": {},
   "outputs": [],
   "source": [
    "#calss methods\n",
    "class Intro:\n",
    "    \n",
    "    \n",
    "    \n",
    "    \n",
    "    def __init__(self,name,address,salary):\n",
    "        self.name=name\n",
    "        self.address=address\n",
    "        self.salary=salary\n",
    "        \n",
    "        \n",
    "        \n",
    "        \n",
    "        \n",
    "class Job:\n",
    "    def __init__(self,name,idi,dos):\n",
    "        self.name=name\n",
    "        self.idi=idi\n",
    "        self.dos=dos\n",
    "        \n",
    "        def display(self):\n",
    "            print(f\"your name is{name}\")\n",
    "            print(f\"your id is {self.idi}\")\n",
    "            \n",
    "i=Job(\"teja\",\"qwert\",\"man\")\n",
    "\n",
    "\n",
    "\n",
    "display()\n",
    "\n"
   ]
  },
  {
   "cell_type": "code",
   "execution_count": null,
   "id": "f27f4a8f",
   "metadata": {},
   "outputs": [],
   "source": [
    "#calss with attributes\n",
    "class i:\n",
    "    sal=1000\n",
    "    def __init__(self,emp,id):\n",
    "        self.emp=emp\n",
    "        self.id=id\n",
    "        \n",
    "        \n",
    "    def display(self,work):\n",
    "        print(f\"your emp name {self.emp} and his id is {self.id} and sal{work}\")\n",
    "\n",
    "\n",
    "\n",
    "    def up_sal(self,val):\n",
    "        self.sal+=val\n",
    "        print(f\"updated sal  {self.sal}\")\n",
    "\n",
    "        \n",
    "j=i(\"teja\",\"ra13\")\n",
    "j.display(\"mng\")\n",
    "j.up_sal(1000)\n",
    "\n",
    "\n",
    "h=i(\"eswar\",\"re234\")\n",
    "h.display(\"hrh\")\n",
    "\n",
    "\n",
    "\n",
    "k=i(\"tri\",\"1234rt\")\n",
    "k.up_sal(1000)\n",
    "\n",
    "\n",
    "# new one\n",
    "a=i('rr',\"234rd\")\n",
    "a.display(\"peo\")\n",
    "a.up_sal(0)\n",
    "\n"
   ]
  },
  {
   "cell_type": "code",
   "execution_count": null,
   "id": "4be0a58d",
   "metadata": {},
   "outputs": [],
   "source": [
    "#exercise\n",
    "class area:\n",
    "    def area_rec(self,l,b):\n",
    "        self.l=l\n",
    "        self.b=b\n",
    "        self.res=self.l*self.b\n",
    "        \n",
    "        print(f\"your len is{self.l} and breath{self.b} and your area {self.res} \")\n",
    "        \n",
    "        \n",
    "    def per_rec(self,l,b):\n",
    "        self.l=l\n",
    "        self.b=b\n",
    "        self.res=int((self.l+self.b)*2)\n",
    "    \n",
    "        print(f\"your len is{self.l} and breath{self.b} and your per {self.res} \")\n",
    "        \n",
    "        \n",
    "        \n",
    "i=int(input(\"enter a len of rec\"))\n",
    "j=int(input(\"enter a bed of rec\"))\n",
    "\n",
    "house=area()\n",
    "\n",
    "house.area_rec(i,j)\n",
    "house.per_rec(i,j)"
   ]
  },
  {
   "cell_type": "code",
   "execution_count": 2,
   "id": "eb984729",
   "metadata": {},
   "outputs": [
    {
     "name": "stdout",
     "output_type": "stream",
     "text": [
      "welcome store\n",
      "what do you want sir an tell me id\n",
      "you ram is128 and your rom is512 and charge \n",
      "you vivo are selected compnay\n",
      "welcome store\n",
      "what do you want sir an tell me id\n",
      "you ram is12 and your rom is128 and charge \n",
      "you redmi are selected compnay\n"
     ]
    }
   ],
   "source": [
    "\n",
    "#inheritence\n",
    "\n",
    "\n",
    "class acc:\n",
    "    def __init__(self):\n",
    "        print(\"welcome store\")\n",
    "        \n",
    "        \n",
    "        \n",
    "    \n",
    "    def mb_acc(self,ram,mem):\n",
    "        \n",
    "        self.ram=ram\n",
    "        self.mem=mem\n",
    "        \n",
    "        \n",
    "\n",
    "    def hi(self):\n",
    "        print(f\"you ram is{self.ram} and your rom is{self.mem} and charge \")\n",
    "        \n",
    "     \n",
    "\n",
    "class ph(acc):\n",
    "    def __init__(self,id):\n",
    "        super().__init__()\n",
    "        print(\"what do you want sir an tell me id\")\n",
    "        \n",
    "        \n",
    " \n",
    "    \n",
    "    \n",
    "    \n",
    "    def hi(self,com):#method overriding\n",
    "      super().hi()#acessinf parent calss\n",
    "      self.com=com\n",
    "      print(f\"you {com} are selected compnay\")\n",
    "   \n",
    "        \n",
    "        \n",
    "myph=ph(\"12es\")\n",
    "\n",
    "\n",
    "\n",
    "\n",
    "myph.mb_acc(128,512)\n",
    "myph.hi(\"vivo\")\n",
    "\n",
    "\n",
    "\n",
    "a1=ph(\"wedfc\")\n",
    "a1.mb_acc(12,128)\n",
    "a1.hi(\"redmi\")\n"
   ]
  },
  {
   "cell_type": "code",
   "execution_count": 4,
   "id": "14bb6d2f",
   "metadata": {},
   "outputs": [
    {
     "name": "stdout",
     "output_type": "stream",
     "text": [
      "thank you so much\n",
      "C company\n",
      "B company\n",
      "A company\n",
      "ven,saya sa class will run\n",
      "hi,welcom\n",
      "kana suya\n"
     ]
    },
    {
     "data": {
      "text/plain": [
       "[__main__.th, __main__.hi, __main__.sa, object]"
      ]
     },
     "execution_count": 4,
     "metadata": {},
     "output_type": "execute_result"
    }
   ],
   "source": [
    "#mutiple inheritence \n",
    "class hi:\n",
    "    def greet(self):\n",
    "        print(\"hi,welcom\")\n",
    "    def com(self):\n",
    "        print(\"A company\")\n",
    "        \n",
    "        \n",
    "class sa:\n",
    "    def gj(self):\n",
    "        print(\"ven,saya sa class will run\")\n",
    "    def com(self):\n",
    "         print(\"B company\")\n",
    "         \n",
    "         \n",
    "         \n",
    "         \n",
    "         \n",
    "         \n",
    "class th(hi,sa):#here automaticall hi class calls first \n",
    "    \n",
    "     print(\"thank you so much\")\n",
    "     def jg(self):\n",
    "        print(\"kana suya\")\n",
    "     def com(self):\n",
    "         print(\"C company\")\n",
    "         \n",
    "i=th()\n",
    "\n",
    "i.com()\n",
    "sa.com(i)#here that second parent class from method overloading\n",
    "hi.com(i)\n",
    "i.gj()\n",
    "i.greet()\n",
    "i.jg()\n",
    "\n",
    "\n",
    "\n",
    "th.mro() # acessing the all the class names"
   ]
  },
  {
   "cell_type": "code",
   "execution_count": null,
   "id": "ac6c9b6d",
   "metadata": {},
   "outputs": [],
   "source": [
    "class a:\n",
    "    \n",
    "    \n",
    "    \n",
    "    \n",
    "    def ukg(self):\n",
    "        print(\"ukg class\")\n",
    "    def work(self):\n",
    "        print(\"sleeping time\")\n",
    "  \n",
    "class b:\n",
    "    def lkg(self):\n",
    "        print(\"lkg class\")\n",
    "        \n",
    "    def work(self):\n",
    "        print(\"CLASS run\")\n",
    "        \n",
    "class sch(a,b):\n",
    "    pass\n",
    "\n",
    "\n",
    "i=sch()\n",
    "i.ukg()\n",
    "i.work()\n",
    "\n",
    "i.lkg()\n",
    "\n",
    "b.work(i)"
   ]
  },
  {
   "cell_type": "code",
   "execution_count": 17,
   "id": "0af0b29c",
   "metadata": {},
   "outputs": [
    {
     "name": "stdout",
     "output_type": "stream",
     "text": [
      "hello ser by Acom\n",
      "hello ser by Bcom\n",
      "connected you are Acom\n",
      "disconnected you are Acom\n",
      "connected you are Bcom\n",
      "disconnected you are Bcom\n"
     ]
    }
   ],
   "source": [
    "# mutilple inheri.. with attribute\n",
    "\n",
    "import time as t\n",
    "\n",
    "class Acom:\n",
    "    print(\"hello ser by Acom\")  # This prints when the Acom class is defined\n",
    "\n",
    "    def __init__(self, conn, dconn):\n",
    "        self.conn = \"connected\"\n",
    "        print(f\"{self.conn} you are Acom\")  # Prints: connected you are Acom\n",
    "        t.sleep(5)  # Pauses for 5 seconds\n",
    "        self.dconn = \"disconnected\"\n",
    "        print(f\"{self.dconn} you are Acom\")  # Prints: disconnected you are Acom\n",
    "\n",
    "class Bcom(Acom):\n",
    "    print(\"hello ser by Bcom\")  # This prints when the Bcom class is defined\n",
    "\n",
    "    def __init__(self, con, dis, conn, dconn):\n",
    "        # Call Acom's constructor with the proper arguments\n",
    "        super().__init__(conn, dconn)\n",
    "        self.conn = \"connected\"\n",
    "        print(f\"{self.conn} you are Bcom\")  # Prints: connected you are Bcom\n",
    "        t.sleep(2)  # Pauses for 2 seconds\n",
    "        self.dconn = \"disconnected\"\n",
    "        print(f\"{self.dconn} you are Bcom\")  # Prints: disconnected you are Bcom\n",
    "\n",
    "class Serv(Bcom):\n",
    "    pass\n",
    "\n",
    "# Create an instance of Serv, passing appropriate arguments\n",
    "i = Serv(\"con\", \"dis\", \"conn\", \"dconn\")\n"
   ]
  },
  {
   "cell_type": "code",
   "execution_count": 2,
   "id": "15578fe8",
   "metadata": {},
   "outputs": [
    {
     "name": "stdout",
     "output_type": "stream",
     "text": [
      "teja is our company CEO\n",
      "eswar is our company manager\n",
      "teja is CEO and eswar is Manager\n",
      "eswar manages the company\n",
      "eswar works for the company\n",
      "we are the company\n"
     ]
    }
   ],
   "source": [
    "class Ce:\n",
    "    def __init__(self, name):\n",
    "        self.name = name\n",
    "        print(f\"{self.name} is our company CEO\")\n",
    "    \n",
    "    def work(self):\n",
    "        print(f\"{self.name} manages the company\")\n",
    "\n",
    "\n",
    "\n",
    "\n",
    "class mn:\n",
    "    def __init__(self, name):\n",
    "        self.name = name\n",
    "        print(f\"{self.name} is our company manager\")\n",
    "        \n",
    "    def work(self):\n",
    "        print(f\"{self.name} works for the company\")\n",
    "\n",
    "\n",
    "\n",
    "\n",
    "class com(Ce, mn):\n",
    "    def __init__(self, name1, name2):\n",
    "        Ce.__init__(self, name1)# here calling construct\n",
    "        mn.__init__(self, name2)\n",
    "        \n",
    "        print(f\"{name1} is CEO and {name2} is Manager\")\n",
    "        \n",
    "    def work():\n",
    "        print(\"we are the company\")\n",
    "        \n",
    "        \n",
    "        \n",
    "i=com(\"teja\",'eswar')\n",
    "\n",
    "\n",
    "Ce.work(i)\n",
    "        \n",
    "mn.work(i)\n",
    "        \n",
    "com.work()"
   ]
  },
  {
   "cell_type": "code",
   "execution_count": null,
   "id": "8494f5cc",
   "metadata": {},
   "outputs": [],
   "source": []
  }
 ],
 "metadata": {
  "kernelspec": {
   "display_name": "Python 3",
   "language": "python",
   "name": "python3"
  },
  "language_info": {
   "codemirror_mode": {
    "name": "ipython",
    "version": 3
   },
   "file_extension": ".py",
   "mimetype": "text/x-python",
   "name": "python",
   "nbconvert_exporter": "python",
   "pygments_lexer": "ipython3",
   "version": "3.12.1"
  }
 },
 "nbformat": 4,
 "nbformat_minor": 5
}
